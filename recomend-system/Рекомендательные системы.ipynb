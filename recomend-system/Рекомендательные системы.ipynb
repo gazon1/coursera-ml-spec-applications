{
 "cells": [
  {
   "cell_type": "code",
   "execution_count": 223,
   "metadata": {},
   "outputs": [],
   "source": [
    "from collections import Counter, OrderedDict\n",
    "\n",
    "class OrderedCounter(Counter, OrderedDict):\n",
    "    'Counter that remembers the order elements are first seen'\n",
    "    def __repr__(self):\n",
    "        return '%s(%r)' % (self.__class__.__name__,\n",
    "                            OrderedDict(self))\n",
    "    def __reduce__(self):\n",
    "        return self.__class__, (OrderedDict(self),)"
   ]
  },
  {
   "cell_type": "code",
   "execution_count": 224,
   "metadata": {},
   "outputs": [],
   "source": [
    "import pandas as pd\n",
    "train = pd.read_csv(\"train.txt\", sep=';', header=None)\n",
    "test = pd.read_csv(\"test.txt\", sep=';', header=None)\n",
    "\n",
    "test_case = pd.read_csv(\"test_case.txt\", sep=';', header=None)\n",
    "test_case[1] = test_case[1].fillna(-1).astype(int).astype(str).replace('-1', np.nan)"
   ]
  },
  {
   "cell_type": "markdown",
   "metadata": {},
   "source": [
    "    Сессии, в которых пользователь ничего не купил, исключаем из оценки качества.\n",
    "    Если товар не встречался в обучающей выборке, его популярность равна 0.\n",
    "    Рекомендуем разные товары. И их число должно быть не больше, чем количество различных просмотренных пользователем товаров.\n",
    "    Рекомендаций всегда не больше, чем минимум из двух чисел: количество просмотренных пользователем товаров и k в recall@k / precision@k."
   ]
  },
  {
   "cell_type": "code",
   "execution_count": 225,
   "metadata": {},
   "outputs": [
    {
     "name": "stdout",
     "output_type": "stream",
     "text": [
      "50000\n",
      "3665\n"
     ]
    }
   ],
   "source": [
    "# Сессии, в которых пользователь ничего не купил, исключаем из оценки качества.\n",
    "print(test.shape[0])\n",
    "test.dropna(inplace=True)\n",
    "print(test.shape[0])"
   ]
  },
  {
   "cell_type": "code",
   "execution_count": 226,
   "metadata": {},
   "outputs": [],
   "source": [
    "c_view = OrderedCounter()\n",
    "c_buy = OrderedCounter()"
   ]
  },
  {
   "cell_type": "code",
   "execution_count": 227,
   "metadata": {},
   "outputs": [],
   "source": [
    "for l in train[0].str.split(',').values:\n",
    "    for token in l:\n",
    "        c_view[token] += 1\n",
    "        \n",
    "# Если товар не встречался в обучающей выборке, его популярность равна 0.\n",
    "for l in test[0].str.split(',').values:\n",
    "    for token in l:\n",
    "        if token not in c_view:\n",
    "            c_view[token] = 0\n",
    "        \n",
    "for l in train[1].dropna().str.split(',').values:\n",
    "    if l:\n",
    "        for token in l:\n",
    "            c_buy[token] += 1"
   ]
  },
  {
   "cell_type": "code",
   "execution_count": 228,
   "metadata": {},
   "outputs": [],
   "source": [
    "def recommend_most_viewed(items, k):\n",
    "    assert isinstance(items, list)\n",
    "    k = min(k, len(np.unique(items)))\n",
    "    _items_weight = {}\n",
    "    for item in items:\n",
    "        _items_weight[item] = c_view[item]\n",
    "        \n",
    "    return [item for item, weight in sorted(_items_weight.items() ,  key=lambda x: x[1], reverse=True)][:k]\n",
    "def recommend_most_buy(items, k):\n",
    "    assert isinstance(items, list)\n",
    "    k = min(k, len(np.unique(items)))\n",
    "    _items_weight = {}\n",
    "    for item in items:\n",
    "        _items_weight[item] = c_buy[item]\n",
    "        \n",
    "    return [item for item, weight in sorted(_items_weight.items() ,  key=lambda x: x[1], reverse=True)][:k]"
   ]
  },
  {
   "cell_type": "code",
   "execution_count": 229,
   "metadata": {},
   "outputs": [],
   "source": [
    "def precision_at_k(buy, recommend, k):\n",
    "    buy = set(buy)\n",
    "#     k = len(recommend)\n",
    "    res = 0\n",
    "    for i in recommend:\n",
    "        if i in buy:\n",
    "            res += 1\n",
    "#     print(res, k)\n",
    "    return res / k\n",
    "\n",
    "def recall_at_k(buy, recommend, k):\n",
    "    buy = set(buy)\n",
    "    k = len(buy)\n",
    "    res = 0\n",
    "    for i in recommend:\n",
    "        if i in buy:\n",
    "            res += 1\n",
    "    return res / k\n",
    "\n",
    "def predict(recommender, data, k):\n",
    "    preds = []\n",
    "    for view in tqdm(data.loc[:,0].str.split(',').values):\n",
    "        preds.append(recommender(view, k))\n",
    "    return preds\n",
    "\n",
    "\n",
    "def calc_metric(metric, data, preds, k, return_seq=False):\n",
    "    if return_seq:\n",
    "        res = []\n",
    "        for _pred, _target in zip(preds, data.loc[:,1].str.split(',').values):\n",
    "            res.append(metric(_target, _pred, k))\n",
    "        return res\n",
    "    else:\n",
    "        res = 0\n",
    "        for _pred, _target in zip(preds, data.loc[:,1].str.split(',').values):\n",
    "            res += metric(_target, _pred, k)\n",
    "        return round(res / data.shape[0],2)\n",
    "\n",
    "\n",
    "def calc_all_metrics(target, preds):\n",
    "    pass"
   ]
  },
  {
   "cell_type": "code",
   "execution_count": 230,
   "metadata": {},
   "outputs": [
    {
     "data": {
      "text/plain": [
       "(3608, 2)"
      ]
     },
     "execution_count": 230,
     "metadata": {},
     "output_type": "execute_result"
    }
   ],
   "source": [
    "train.dropna(inplace=True)\n",
    "train.shape"
   ]
  },
  {
   "cell_type": "code",
   "execution_count": 231,
   "metadata": {},
   "outputs": [
    {
     "name": "stderr",
     "output_type": "stream",
     "text": [
      "  0%|          | 0/2 [00:00<?, ?it/s]\n",
      "100%|██████████| 3608/3608 [00:00<00:00, 63607.49it/s]\n",
      "\n",
      "100%|██████████| 3608/3608 [00:00<00:00, 66829.40it/s]\n",
      "\n",
      "100%|██████████| 3665/3665 [00:00<00:00, 64653.14it/s]\n",
      "\n",
      "100%|██████████| 3665/3665 [00:00<00:00, 66778.42it/s]\n",
      " 50%|█████     | 1/2 [00:00<00:00,  2.83it/s]\n",
      "100%|██████████| 3608/3608 [00:00<00:00, 69576.60it/s]\n",
      "\n",
      "100%|██████████| 3608/3608 [00:00<00:00, 66458.13it/s]\n",
      "\n",
      "100%|██████████| 3665/3665 [00:00<00:00, 66410.58it/s]\n",
      "\n",
      "100%|██████████| 3665/3665 [00:00<00:00, 70384.86it/s]\n",
      "100%|██████████| 2/2 [00:00<00:00,  3.21it/s]\n"
     ]
    }
   ],
   "source": [
    "# _k = [1, 5]\n",
    "_recommender = [recommend_most_viewed, recommend_most_buy]\n",
    "_data = [train, test]\n",
    "file_names = ['recommend_most_viewed_train.txt', \n",
    "              'recommend_most_viewed_train_test.txt',\n",
    "              'recommend_most_buy_train.txt',\n",
    "              'recommend_most_buy_test.txt']\n",
    "i = 0\n",
    "for recommender in tqdm(_recommender):\n",
    "    for data in _data:\n",
    "        preds = predict(recommender, data, 1)\n",
    "        AveragePrecision_at1 = calc_metric(precision_at_k, data, preds, 1)\n",
    "        AverageRecall_at1 = calc_metric(recall_at_k, data, preds, 1)\n",
    "\n",
    "        preds = predict(recommender, data, 5)\n",
    "        AveragePrecision_at5 = calc_metric(precision_at_k, data, preds, 5)\n",
    "        AverageRecall_at5 = calc_metric(recall_at_k, data, preds, 5)\n",
    "        print(f\"{AverageRecall_at1} {AveragePrecision_at1} {AverageRecall_at5} {AveragePrecision_at5}\", end='', file=open(file_names[i], 'w'))\n",
    "        i += 1"
   ]
  },
  {
   "cell_type": "code",
   "execution_count": 232,
   "metadata": {},
   "outputs": [
    {
     "name": "stdout",
     "output_type": "stream",
     "text": [
      "0.44 0.51 0.82 0.21"
     ]
    }
   ],
   "source": [
    "!cat recommend_most_viewed_train.txt"
   ]
  },
  {
   "cell_type": "markdown",
   "metadata": {},
   "source": [
    "# Check algorithm on the test case\n",
    "\n",
    "https://www.coursera.org/learn/data-analysis-applications/discussions/weeks/4/threads/DNfz8-c5EeaLPwr1rOSl0g"
   ]
  },
  {
   "cell_type": "code",
   "execution_count": 219,
   "metadata": {},
   "outputs": [],
   "source": [
    "c_view = OrderedCounter()\n",
    "c_buy = OrderedCounter()\n",
    "\n",
    "for l in test_case[0].str.split(',').values:\n",
    "    for token in l:\n",
    "        c_view[token] += 1\n",
    "        \n",
    "for l in test_case[1].dropna().values:\n",
    "    if l:\n",
    "        for token in l:\n",
    "            c_buy[token] += 1    "
   ]
  },
  {
   "cell_type": "code",
   "execution_count": 220,
   "metadata": {},
   "outputs": [
    {
     "data": {
      "text/html": [
       "<div>\n",
       "<style scoped>\n",
       "    .dataframe tbody tr th:only-of-type {\n",
       "        vertical-align: middle;\n",
       "    }\n",
       "\n",
       "    .dataframe tbody tr th {\n",
       "        vertical-align: top;\n",
       "    }\n",
       "\n",
       "    .dataframe thead th {\n",
       "        text-align: right;\n",
       "    }\n",
       "</style>\n",
       "<table border=\"1\" class=\"dataframe\">\n",
       "  <thead>\n",
       "    <tr style=\"text-align: right;\">\n",
       "      <th></th>\n",
       "      <th>0</th>\n",
       "      <th>1</th>\n",
       "    </tr>\n",
       "  </thead>\n",
       "  <tbody>\n",
       "    <tr>\n",
       "      <th>0</th>\n",
       "      <td>4,2,3</td>\n",
       "      <td>NaN</td>\n",
       "    </tr>\n",
       "    <tr>\n",
       "      <th>1</th>\n",
       "      <td>3,2,4</td>\n",
       "      <td>NaN</td>\n",
       "    </tr>\n",
       "    <tr>\n",
       "      <th>2</th>\n",
       "      <td>4,2,3</td>\n",
       "      <td>2</td>\n",
       "    </tr>\n",
       "    <tr>\n",
       "      <th>3</th>\n",
       "      <td>3,2,4</td>\n",
       "      <td>2</td>\n",
       "    </tr>\n",
       "    <tr>\n",
       "      <th>4</th>\n",
       "      <td>4,4,4</td>\n",
       "      <td>1</td>\n",
       "    </tr>\n",
       "    <tr>\n",
       "      <th>5</th>\n",
       "      <td>2,3,2,3,5</td>\n",
       "      <td>5</td>\n",
       "    </tr>\n",
       "  </tbody>\n",
       "</table>\n",
       "</div>"
      ],
      "text/plain": [
       "           0    1\n",
       "0      4,2,3  NaN\n",
       "1      3,2,4  NaN\n",
       "2      4,2,3    2\n",
       "3      3,2,4    2\n",
       "4      4,4,4    1\n",
       "5  2,3,2,3,5    5"
      ]
     },
     "execution_count": 220,
     "metadata": {},
     "output_type": "execute_result"
    }
   ],
   "source": [
    "test_case"
   ]
  },
  {
   "cell_type": "code",
   "execution_count": 221,
   "metadata": {},
   "outputs": [
    {
     "data": {
      "text/plain": [
       "OrderedCounter(OrderedDict([('4', 7), ('2', 6), ('3', 6), ('5', 1)]))"
      ]
     },
     "execution_count": 221,
     "metadata": {},
     "output_type": "execute_result"
    }
   ],
   "source": [
    "c_view"
   ]
  },
  {
   "cell_type": "code",
   "execution_count": 222,
   "metadata": {},
   "outputs": [
    {
     "name": "stderr",
     "output_type": "stream",
     "text": [
      "  0%|          | 0/2 [00:00<?, ?it/s]\n",
      "100%|██████████| 4/4 [00:00<00:00, 19152.07it/s]\n",
      "\n",
      "100%|██████████| 4/4 [00:00<00:00, 24600.02it/s]\n",
      "\n",
      "100%|██████████| 4/4 [00:00<00:00, 20262.34it/s]\n",
      "\n",
      "100%|██████████| 4/4 [00:00<00:00, 16810.84it/s]\n",
      "100%|██████████| 2/2 [00:00<00:00, 126.28it/s]"
     ]
    },
    {
     "name": "stdout",
     "output_type": "stream",
     "text": [
      "0.0 0.12 0.0 0.25 \n",
      "0.5 0.38 0.5 0.75 \n"
     ]
    },
    {
     "name": "stderr",
     "output_type": "stream",
     "text": [
      "\n"
     ]
    }
   ],
   "source": [
    "# _k = [1, 5]\n",
    "_recommender = [recommend_most_viewed, recommend_most_buy]\n",
    "test_case.dropna(inplace=True)\n",
    "_data = [test_case]\n",
    "file_names = ['recommend_most_viewed_train.txt', \n",
    "              'recommend_most_viewed_train_test.txt',\n",
    "              'recommend_most_buy_train.txt',\n",
    "              'recommend_most_buy_test.txt']\n",
    "\n",
    "i = 0\n",
    "for recommender in tqdm(_recommender):\n",
    "    for data in _data:\n",
    "        preds = predict(recommender, data, 1)\n",
    "        AveragePrecision_at1 = calc_metric(precision_at_k, data, preds, 1)\n",
    "        AverageRecall_at1 = calc_metric(recall_at_k, data, preds, 1)\n",
    "\n",
    "        preds = predict(recommender, data, 2)\n",
    "        AveragePrecision_at5 = calc_metric(precision_at_k, data, preds, 2)\n",
    "        AverageRecall_at5 = calc_metric(recall_at_k, data, preds, 2)\n",
    "        print(f\"{AveragePrecision_at1} {AveragePrecision_at5} {AverageRecall_at1} {AverageRecall_at5} \")"
   ]
  },
  {
   "cell_type": "code",
   "execution_count": 162,
   "metadata": {},
   "outputs": [
    {
     "data": {
      "text/html": [
       "<div>\n",
       "<style scoped>\n",
       "    .dataframe tbody tr th:only-of-type {\n",
       "        vertical-align: middle;\n",
       "    }\n",
       "\n",
       "    .dataframe tbody tr th {\n",
       "        vertical-align: top;\n",
       "    }\n",
       "\n",
       "    .dataframe thead th {\n",
       "        text-align: right;\n",
       "    }\n",
       "</style>\n",
       "<table border=\"1\" class=\"dataframe\">\n",
       "  <thead>\n",
       "    <tr style=\"text-align: right;\">\n",
       "      <th></th>\n",
       "      <th>0</th>\n",
       "      <th>1</th>\n",
       "    </tr>\n",
       "  </thead>\n",
       "  <tbody>\n",
       "    <tr>\n",
       "      <th>2</th>\n",
       "      <td>4,2,3</td>\n",
       "      <td>2</td>\n",
       "    </tr>\n",
       "    <tr>\n",
       "      <th>3</th>\n",
       "      <td>3,2,4</td>\n",
       "      <td>2</td>\n",
       "    </tr>\n",
       "    <tr>\n",
       "      <th>4</th>\n",
       "      <td>4,4,4</td>\n",
       "      <td>1</td>\n",
       "    </tr>\n",
       "    <tr>\n",
       "      <th>5</th>\n",
       "      <td>2,3,2,3,5</td>\n",
       "      <td>5</td>\n",
       "    </tr>\n",
       "  </tbody>\n",
       "</table>\n",
       "</div>"
      ],
      "text/plain": [
       "           0  1\n",
       "2      4,2,3  2\n",
       "3      3,2,4  2\n",
       "4      4,4,4  1\n",
       "5  2,3,2,3,5  5"
      ]
     },
     "execution_count": 162,
     "metadata": {},
     "output_type": "execute_result"
    }
   ],
   "source": [
    "test_case"
   ]
  },
  {
   "cell_type": "code",
   "execution_count": 190,
   "metadata": {},
   "outputs": [
    {
     "name": "stderr",
     "output_type": "stream",
     "text": [
      "100%|██████████| 4/4 [00:00<00:00, 11732.32it/s]\n"
     ]
    },
    {
     "data": {
      "text/plain": [
       "[0.0, 0.0, 0.0, 0.0]"
      ]
     },
     "execution_count": 190,
     "metadata": {},
     "output_type": "execute_result"
    }
   ],
   "source": [
    "preds = predict(recommend_most_viewed, test_case, 1)\n",
    "calc_metric(precision_at_k, test_case, preds, 1, return_seq=True)"
   ]
  },
  {
   "cell_type": "code",
   "execution_count": 191,
   "metadata": {},
   "outputs": [
    {
     "data": {
      "text/plain": [
       "[['4'], ['4'], ['4'], ['2']]"
      ]
     },
     "execution_count": 191,
     "metadata": {},
     "output_type": "execute_result"
    }
   ],
   "source": [
    "preds"
   ]
  },
  {
   "cell_type": "code",
   "execution_count": 188,
   "metadata": {},
   "outputs": [
    {
     "name": "stderr",
     "output_type": "stream",
     "text": [
      "100%|██████████| 4/4 [00:00<00:00, 11096.04it/s]\n"
     ]
    },
    {
     "data": {
      "text/plain": [
       "[0.5, 0.0, 0.0, 0.0]"
      ]
     },
     "execution_count": 188,
     "metadata": {},
     "output_type": "execute_result"
    }
   ],
   "source": [
    "preds = predict(recommend_most_viewed, test_case, 2)\n",
    "calc_metric(precision_at_k, test_case, preds, 2, return_seq=True)"
   ]
  },
  {
   "cell_type": "code",
   "execution_count": 189,
   "metadata": {},
   "outputs": [
    {
     "data": {
      "text/plain": [
       "[['4', '2'], ['4', '3'], ['4'], ['2', '3']]"
      ]
     },
     "execution_count": 189,
     "metadata": {},
     "output_type": "execute_result"
    }
   ],
   "source": [
    "preds"
   ]
  }
 ],
 "metadata": {
  "kernelspec": {
   "display_name": "Python 3",
   "language": "python",
   "name": "python3"
  },
  "language_info": {
   "codemirror_mode": {
    "name": "ipython",
    "version": 3
   },
   "file_extension": ".py",
   "mimetype": "text/x-python",
   "name": "python",
   "nbconvert_exporter": "python",
   "pygments_lexer": "ipython3",
   "version": "3.6.9"
  }
 },
 "nbformat": 4,
 "nbformat_minor": 2
}
